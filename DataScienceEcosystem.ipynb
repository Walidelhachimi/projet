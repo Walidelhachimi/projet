{
 "cells": [
  {
   "cell_type": "markdown",
   "id": "28a2917f-6e11-49ce-aabb-2d4cfcbd2ec6",
   "metadata": {},
   "source": [
    "#Data Science Tools and Ecosystem"
   ]
  },
  {
   "cell_type": "markdown",
   "id": "dba83629-12f7-4540-a3d0-6022b9ccde5e",
   "metadata": {},
   "source": [
    "In this notebook, Data Science Tools and Ecosystem are summarized."
   ]
  },
  {
   "cell_type": "markdown",
   "id": "9edf930d-933f-4acd-b04e-b061557bb3c7",
   "metadata": {},
   "source": [
    "objectives :"
   ]
  },
  {
   "cell_type": "markdown",
   "id": "21d309c1-d7ab-4be2-8c01-c8f5220a8c91",
   "metadata": {},
   "source": [
    "- List popular languages for Data Science\n",
    "- list popular open sources used for data science\n",
    "- know missions of a data scientist"
   ]
  },
  {
   "cell_type": "markdown",
   "id": "112d66e1-04a9-45a0-8631-e0f4310bcedb",
   "metadata": {},
   "source": [
    "Some of the popular languages that Data Scientists use are:"
   ]
  },
  {
   "cell_type": "markdown",
   "id": "ad15fcef-9e14-42f0-b6e7-5751954040a7",
   "metadata": {
    "tags": []
   },
   "source": [
    "1. Python\n",
    "2. Java\n",
    "3. C++"
   ]
  },
  {
   "cell_type": "markdown",
   "id": "b35c5d6b-76fc-4603-8441-e4b8c6b89dae",
   "metadata": {},
   "source": [
    "Some of the commonly used libraries used by Data Scientists include:"
   ]
  },
  {
   "cell_type": "markdown",
   "id": "6c49ffcc-85bc-477a-8e62-8c87afb0ae2e",
   "metadata": {},
   "source": [
    "1. pandas\n",
    "2. Matplotlib\n",
    "3. numpy"
   ]
  },
  {
   "cell_type": "markdown",
   "id": "79458897-a7a4-4b30-9544-33c54e009c4e",
   "metadata": {},
   "source": [
    "|Data science tools|\n",
    "|------------------|\n",
    "|Rstudio|\n",
    "|jupyter notebook|\n",
    "|anaconda|"
   ]
  },
  {
   "cell_type": "markdown",
   "id": "93df837b-814e-4c98-aa32-f129b1d6286f",
   "metadata": {},
   "source": [
    "###Below are a few examples of evaluating arithmetic expressions in Python"
   ]
  },
  {
   "cell_type": "markdown",
   "id": "04e60981-3ea0-4778-ac2b-4817e8bf7154",
   "metadata": {},
   "source": [
    "###Below are a few examples of evaluating arithmetic expressions in Python"
   ]
  },
  {
   "cell_type": "markdown",
   "id": "d3f0780a-b04d-4f46-848b-3f8cd38c1bcb",
   "metadata": {},
   "source": [
    "### Below are a few examples of evaluating arithmetic expressions in Python"
   ]
  },
  {
   "cell_type": "markdown",
   "id": "1056c898-4815-483e-a60b-60000c119b56",
   "metadata": {},
   "source": [
    "# Data Science Tools and Ecosystem"
   ]
  },
  {
   "cell_type": "code",
   "execution_count": 1,
   "id": "0d291ad4-4d09-4877-9a1d-2c1440cb46d2",
   "metadata": {
    "tags": []
   },
   "outputs": [
    {
     "data": {
      "text/plain": [
       "17"
      ]
     },
     "execution_count": 1,
     "metadata": {},
     "output_type": "execute_result"
    }
   ],
   "source": [
    "# This a simple arithmetic expression to mutiply then add integers\n",
    "(3*4)+5"
   ]
  },
  {
   "cell_type": "code",
   "execution_count": 2,
   "id": "1f243c36-2c56-4f27-a9cc-d50375db6c61",
   "metadata": {
    "tags": []
   },
   "outputs": [
    {
     "data": {
      "text/plain": [
       "3.3333333333333335"
      ]
     },
     "execution_count": 2,
     "metadata": {},
     "output_type": "execute_result"
    }
   ],
   "source": [
    "# This will convert 200 minutes to hours by diving by 60.\n",
    "200/60"
   ]
  },
  {
   "cell_type": "markdown",
   "id": "1ca14935-8b8e-4136-96c7-e64d98246aeb",
   "metadata": {},
   "source": [
    "## Author\n",
    "Walid El Hachimi"
   ]
  },
  {
   "cell_type": "code",
   "execution_count": null,
   "id": "aa6f9849-48bd-450f-bb49-a1fd60d9938c",
   "metadata": {},
   "outputs": [],
   "source": []
  }
 ],
 "metadata": {
  "kernelspec": {
   "display_name": "Python",
   "language": "python",
   "name": "conda-env-python-py"
  },
  "language_info": {
   "codemirror_mode": {
    "name": "ipython",
    "version": 3
   },
   "file_extension": ".py",
   "mimetype": "text/x-python",
   "name": "python",
   "nbconvert_exporter": "python",
   "pygments_lexer": "ipython3",
   "version": "3.7.12"
  }
 },
 "nbformat": 4,
 "nbformat_minor": 5
}
